{
  "nbformat": 4,
  "nbformat_minor": 0,
  "metadata": {
    "colab": {
      "name": "Untitled3.ipynb",
      "provenance": [],
      "collapsed_sections": []
    },
    "kernelspec": {
      "name": "python3",
      "display_name": "Python 3"
    }
  },
  "cells": [
    {
      "cell_type": "code",
      "metadata": {
        "id": "pzWojPq0urE2"
      },
      "source": [
        "import pandas as pd\r\n",
        "from google.colab import files"
      ],
      "execution_count": null,
      "outputs": []
    },
    {
      "cell_type": "code",
      "metadata": {
        "colab": {
          "resources": {
            "http://localhost:8080/nbextensions/google.colab/files.js": {
              "data": "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",
              "ok": true,
              "headers": [
                [
                  "content-type",
                  "application/javascript"
                ]
              ],
              "status": 200,
              "status_text": ""
            }
          },
          "base_uri": "https://localhost:8080/",
          "height": 72
        },
        "id": "fww-Sy94uzA5",
        "outputId": "7bf9dd90-c0eb-4061-a22f-cab3b89604e6"
      },
      "source": [
        "uploaded = files.upload()"
      ],
      "execution_count": null,
      "outputs": [
        {
          "output_type": "display_data",
          "data": {
            "text/html": [
              "\n",
              "     <input type=\"file\" id=\"files-2b93fcfc-5ab0-4afd-aaf8-cb5b1027399a\" name=\"files[]\" multiple disabled\n",
              "        style=\"border:none\" />\n",
              "     <output id=\"result-2b93fcfc-5ab0-4afd-aaf8-cb5b1027399a\">\n",
              "      Upload widget is only available when the cell has been executed in the\n",
              "      current browser session. Please rerun this cell to enable.\n",
              "      </output>\n",
              "      <script src=\"/nbextensions/google.colab/files.js\"></script> "
            ],
            "text/plain": [
              "<IPython.core.display.HTML object>"
            ]
          },
          "metadata": {
            "tags": []
          }
        },
        {
          "output_type": "stream",
          "text": [
            "Saving Mall_customers.csv to Mall_customers.csv\n"
          ],
          "name": "stdout"
        }
      ]
    },
    {
      "cell_type": "code",
      "metadata": {
        "colab": {
          "base_uri": "https://localhost:8080/"
        },
        "id": "OAEBZRYAvDQ9",
        "outputId": "9c98a4b7-5ee1-4625-f63b-e660d0070658"
      },
      "source": [
        "for fn in uploaded.keys():\r\n",
        "  print('user uploaded file \"{name}\" with length {length} bytes'.format(name = fn, length = len(uploaded[fn])))"
      ],
      "execution_count": null,
      "outputs": [
        {
          "output_type": "stream",
          "text": [
            "user uploaded file \"Mall_customers.csv\" with length 3981 bytes\n"
          ],
          "name": "stdout"
        }
      ]
    },
    {
      "cell_type": "code",
      "metadata": {
        "id": "IB0sGDZexQVT"
      },
      "source": [
        "import io"
      ],
      "execution_count": null,
      "outputs": []
    },
    {
      "cell_type": "code",
      "metadata": {
        "colab": {
          "base_uri": "https://localhost:8080/"
        },
        "id": "TrChQyfJwfft",
        "outputId": "cd756a8f-476e-48c5-a573-82241e7b17a4"
      },
      "source": [
        "data = pd.read_csv(io.StringIO(uploaded['Mall_customers.csv'].decode('utf-8')))\r\n",
        "print(data)"
      ],
      "execution_count": null,
      "outputs": [
        {
          "output_type": "stream",
          "text": [
            "     CustomerID  Gender  Age  Annual Income (k$)  Spending Score (1-100)\n",
            "0             1    Male   19                  15                      39\n",
            "1             2    Male   21                  15                      81\n",
            "2             3  Female   20                  16                       6\n",
            "3             4  Female   23                  16                      77\n",
            "4             5  Female   31                  17                      40\n",
            "..          ...     ...  ...                 ...                     ...\n",
            "195         196  Female   35                 120                      79\n",
            "196         197  Female   45                 126                      28\n",
            "197         198    Male   32                 126                      74\n",
            "198         199    Male   32                 137                      18\n",
            "199         200    Male   30                 137                      83\n",
            "\n",
            "[200 rows x 5 columns]\n"
          ],
          "name": "stdout"
        }
      ]
    },
    {
      "cell_type": "code",
      "metadata": {
        "id": "RLf3gp-uxIpv"
      },
      "source": [
        "#detect missing values in the data\r\n",
        "\r\n",
        "symbols = ['?', '*', '#', 'Nan']\r\n",
        "for rows in data:\r\n",
        "    if set(rows) & set(symbols):\r\n",
        "        print (rows)"
      ],
      "execution_count": null,
      "outputs": []
    },
    {
      "cell_type": "code",
      "metadata": {
        "id": "enBTBRlcxfuZ"
      },
      "source": [
        "#univariate outlier detection using Median approach at global context\r\n",
        "#we will apply this approach on the feature 'age'.\r\n",
        "Age = data.iloc[:, 2].values"
      ],
      "execution_count": null,
      "outputs": []
    },
    {
      "cell_type": "code",
      "metadata": {
        "colab": {
          "base_uri": "https://localhost:8080/"
        },
        "id": "5ZYgtduHxm5D",
        "outputId": "f1aa4ca0-2a44-415d-f7b8-71f387c70abd"
      },
      "source": [
        "Age"
      ],
      "execution_count": null,
      "outputs": [
        {
          "output_type": "execute_result",
          "data": {
            "text/plain": [
              "array([19, 21, 20, 23, 31, 22, 35, 23, 64, 30, 67, 35, 58, 24, 37, 22, 35,\n",
              "       20, 52, 35, 35, 25, 46, 31, 54, 29, 45, 35, 40, 23, 60, 21, 53, 18,\n",
              "       49, 21, 42, 30, 36, 20, 65, 24, 48, 31, 49, 24, 50, 27, 29, 31, 49,\n",
              "       33, 31, 59, 50, 47, 51, 69, 27, 53, 70, 19, 67, 54, 63, 18, 43, 68,\n",
              "       19, 32, 70, 47, 60, 60, 59, 26, 45, 40, 23, 49, 57, 38, 67, 46, 21,\n",
              "       48, 55, 22, 34, 50, 68, 18, 48, 40, 32, 24, 47, 27, 48, 20, 23, 49,\n",
              "       67, 26, 49, 21, 66, 54, 68, 66, 65, 19, 38, 19, 18, 19, 63, 49, 51,\n",
              "       50, 27, 38, 40, 39, 23, 31, 43, 40, 59, 38, 47, 39, 25, 31, 20, 29,\n",
              "       44, 32, 19, 35, 57, 32, 28, 32, 25, 28, 48, 32, 34, 34, 43, 39, 44,\n",
              "       38, 47, 27, 37, 30, 34, 30, 56, 29, 19, 31, 50, 36, 42, 33, 36, 32,\n",
              "       40, 28, 36, 36, 52, 30, 58, 27, 59, 35, 37, 32, 46, 29, 41, 30, 54,\n",
              "       28, 41, 36, 34, 32, 33, 38, 47, 35, 45, 32, 32, 30])"
            ]
          },
          "metadata": {
            "tags": []
          },
          "execution_count": 15
        }
      ]
    },
    {
      "cell_type": "code",
      "metadata": {
        "colab": {
          "base_uri": "https://localhost:8080/"
        },
        "id": "Ps9e2qaZxwNK",
        "outputId": "edb4cd86-e704-478d-b3c4-c5b71db55169"
      },
      "source": [
        "import numpy as np\r\n",
        "median = np.median(Age)\r\n",
        "median"
      ],
      "execution_count": null,
      "outputs": [
        {
          "output_type": "execute_result",
          "data": {
            "text/plain": [
              "36.0"
            ]
          },
          "metadata": {
            "tags": []
          },
          "execution_count": 16
        }
      ]
    },
    {
      "cell_type": "code",
      "metadata": {
        "id": "kSN2i2EGx5n-"
      },
      "source": [
        "#defining a cutoff\r\n",
        "cutoff = median * 3  #k [1, 4] , k = 3.\r\n",
        "lower = median - cutoff\r\n",
        "upper = median + cutoff"
      ],
      "execution_count": null,
      "outputs": []
    },
    {
      "cell_type": "code",
      "metadata": {
        "colab": {
          "base_uri": "https://localhost:8080/"
        },
        "id": "8WzkL1Mzx_TQ",
        "outputId": "700fa62d-a173-47c6-bbe2-1219b5d0d829"
      },
      "source": [
        "lower, upper"
      ],
      "execution_count": null,
      "outputs": [
        {
          "output_type": "execute_result",
          "data": {
            "text/plain": [
              "(-72.0, 144.0)"
            ]
          },
          "metadata": {
            "tags": []
          },
          "execution_count": 18
        }
      ]
    },
    {
      "cell_type": "code",
      "metadata": {
        "id": "gsfl1z8ByCte"
      },
      "source": [
        "for Ages in Age: \r\n",
        "    if Age.all() < lower or Age.all() > upper:\r\n",
        "        print(Age)"
      ],
      "execution_count": null,
      "outputs": []
    },
    {
      "cell_type": "code",
      "metadata": {
        "id": "woUh2htJyHzn"
      },
      "source": [
        "#median approach of univariate outlier detection at a local context\r\n",
        "#we will divide the dataset on the basis of male and femmale customers.\r\n",
        "male_customers = data[data['Gender'] == 'Male'].iloc[:, 2].values\r\n",
        "female_customers = data[data['Gender'] == 'Female'].iloc[:, 2].values"
      ],
      "execution_count": null,
      "outputs": []
    },
    {
      "cell_type": "code",
      "metadata": {
        "colab": {
          "base_uri": "https://localhost:8080/"
        },
        "id": "9rQU5zCkyLxQ",
        "outputId": "3a8b03b2-2573-4d16-95c7-ffd06bd40401"
      },
      "source": [
        "male_customers, female_customers"
      ],
      "execution_count": null,
      "outputs": [
        {
          "output_type": "execute_result",
          "data": {
            "text/plain": [
              "(array([19, 21, 64, 67, 37, 22, 20, 52, 35, 25, 31, 29, 35, 60, 53, 18, 24,\n",
              "        48, 33, 59, 47, 69, 53, 70, 19, 63, 18, 19, 70, 59, 26, 40, 57, 38,\n",
              "        67, 48, 18, 48, 24, 48, 20, 67, 26, 49, 54, 68, 66, 65, 19, 27, 39,\n",
              "        43, 40, 59, 38, 47, 39, 20, 32, 19, 32, 25, 28, 48, 34, 43, 39, 37,\n",
              "        34, 19, 50, 42, 32, 40, 28, 36, 36, 58, 27, 59, 35, 46, 30, 28, 33,\n",
              "        32, 32, 30]),\n",
              " array([20, 23, 31, 22, 35, 23, 30, 35, 58, 24, 35, 35, 46, 54, 45, 40, 23,\n",
              "        21, 49, 21, 42, 30, 36, 20, 65, 31, 49, 24, 50, 27, 29, 31, 49, 31,\n",
              "        50, 51, 27, 67, 54, 43, 68, 32, 47, 60, 60, 45, 23, 49, 46, 21, 55,\n",
              "        22, 34, 50, 68, 40, 32, 47, 27, 23, 49, 21, 66, 19, 38, 18, 19, 63,\n",
              "        49, 51, 50, 38, 40, 23, 31, 25, 31, 29, 44, 35, 57, 28, 32, 32, 34,\n",
              "        44, 38, 47, 27, 30, 30, 56, 29, 31, 36, 33, 36, 52, 30, 37, 32, 29,\n",
              "        41, 54, 41, 36, 34, 32, 38, 47, 35, 45]))"
            ]
          },
          "metadata": {
            "tags": []
          },
          "execution_count": 21
        }
      ]
    },
    {
      "cell_type": "code",
      "metadata": {
        "colab": {
          "base_uri": "https://localhost:8080/"
        },
        "id": "JRBcYxvByP77",
        "outputId": "357b185c-67e6-4ecc-aeaa-efb805659958"
      },
      "source": [
        "#Range of normality for the lable male\r\n",
        "male_customers_median = np.median(male_customers)\r\n",
        "male_customers_cutoff = male_customers_median * 3 # k = 3\r\n",
        "male_customers_upper = male_customers_median + male_customers_cutoff\r\n",
        "male_customers_lower = male_customers_median - male_customers_cutoff\r\n",
        "male_customers_upper\r\n",
        "male_customers_lower"
      ],
      "execution_count": null,
      "outputs": [
        {
          "output_type": "execute_result",
          "data": {
            "text/plain": [
              "-74.0"
            ]
          },
          "metadata": {
            "tags": []
          },
          "execution_count": 22
        }
      ]
    },
    {
      "cell_type": "code",
      "metadata": {
        "colab": {
          "base_uri": "https://localhost:8080/"
        },
        "id": "z17-Th-TyZC4",
        "outputId": "8806322c-6f32-4b98-8d59-2c186cf2ae62"
      },
      "source": [
        "#Range of normality for the lable female\r\n",
        "female_customers_median = np.median(female_customers)\r\n",
        "female_customers_cutoff = female_customers_median * 3 # k = 3\r\n",
        "female_customers_upper = female_customers_median + female_customers_cutoff\r\n",
        "female_customers_lower = female_customers_median - female_customers_cutoff\r\n",
        "female_customers_upper\r\n",
        "female_customers_lower"
      ],
      "execution_count": null,
      "outputs": [
        {
          "output_type": "execute_result",
          "data": {
            "text/plain": [
              "-70.0"
            ]
          },
          "metadata": {
            "tags": []
          },
          "execution_count": 23
        }
      ]
    },
    {
      "cell_type": "code",
      "metadata": {
        "colab": {
          "base_uri": "https://localhost:8080/",
          "height": 419
        },
        "id": "UvcfRThoydOF",
        "outputId": "3a3041c7-ab2c-4a89-81ce-4d7ba48b48f0"
      },
      "source": [
        "#Dtection of Multivariate Outlier with the help of Local Outlier Factor Approach\r\n",
        "data"
      ],
      "execution_count": null,
      "outputs": [
        {
          "output_type": "execute_result",
          "data": {
            "text/html": [
              "<div>\n",
              "<style scoped>\n",
              "    .dataframe tbody tr th:only-of-type {\n",
              "        vertical-align: middle;\n",
              "    }\n",
              "\n",
              "    .dataframe tbody tr th {\n",
              "        vertical-align: top;\n",
              "    }\n",
              "\n",
              "    .dataframe thead th {\n",
              "        text-align: right;\n",
              "    }\n",
              "</style>\n",
              "<table border=\"1\" class=\"dataframe\">\n",
              "  <thead>\n",
              "    <tr style=\"text-align: right;\">\n",
              "      <th></th>\n",
              "      <th>CustomerID</th>\n",
              "      <th>Gender</th>\n",
              "      <th>Age</th>\n",
              "      <th>Annual Income (k$)</th>\n",
              "      <th>Spending Score (1-100)</th>\n",
              "    </tr>\n",
              "  </thead>\n",
              "  <tbody>\n",
              "    <tr>\n",
              "      <th>0</th>\n",
              "      <td>1</td>\n",
              "      <td>Male</td>\n",
              "      <td>19</td>\n",
              "      <td>15</td>\n",
              "      <td>39</td>\n",
              "    </tr>\n",
              "    <tr>\n",
              "      <th>1</th>\n",
              "      <td>2</td>\n",
              "      <td>Male</td>\n",
              "      <td>21</td>\n",
              "      <td>15</td>\n",
              "      <td>81</td>\n",
              "    </tr>\n",
              "    <tr>\n",
              "      <th>2</th>\n",
              "      <td>3</td>\n",
              "      <td>Female</td>\n",
              "      <td>20</td>\n",
              "      <td>16</td>\n",
              "      <td>6</td>\n",
              "    </tr>\n",
              "    <tr>\n",
              "      <th>3</th>\n",
              "      <td>4</td>\n",
              "      <td>Female</td>\n",
              "      <td>23</td>\n",
              "      <td>16</td>\n",
              "      <td>77</td>\n",
              "    </tr>\n",
              "    <tr>\n",
              "      <th>4</th>\n",
              "      <td>5</td>\n",
              "      <td>Female</td>\n",
              "      <td>31</td>\n",
              "      <td>17</td>\n",
              "      <td>40</td>\n",
              "    </tr>\n",
              "    <tr>\n",
              "      <th>...</th>\n",
              "      <td>...</td>\n",
              "      <td>...</td>\n",
              "      <td>...</td>\n",
              "      <td>...</td>\n",
              "      <td>...</td>\n",
              "    </tr>\n",
              "    <tr>\n",
              "      <th>195</th>\n",
              "      <td>196</td>\n",
              "      <td>Female</td>\n",
              "      <td>35</td>\n",
              "      <td>120</td>\n",
              "      <td>79</td>\n",
              "    </tr>\n",
              "    <tr>\n",
              "      <th>196</th>\n",
              "      <td>197</td>\n",
              "      <td>Female</td>\n",
              "      <td>45</td>\n",
              "      <td>126</td>\n",
              "      <td>28</td>\n",
              "    </tr>\n",
              "    <tr>\n",
              "      <th>197</th>\n",
              "      <td>198</td>\n",
              "      <td>Male</td>\n",
              "      <td>32</td>\n",
              "      <td>126</td>\n",
              "      <td>74</td>\n",
              "    </tr>\n",
              "    <tr>\n",
              "      <th>198</th>\n",
              "      <td>199</td>\n",
              "      <td>Male</td>\n",
              "      <td>32</td>\n",
              "      <td>137</td>\n",
              "      <td>18</td>\n",
              "    </tr>\n",
              "    <tr>\n",
              "      <th>199</th>\n",
              "      <td>200</td>\n",
              "      <td>Male</td>\n",
              "      <td>30</td>\n",
              "      <td>137</td>\n",
              "      <td>83</td>\n",
              "    </tr>\n",
              "  </tbody>\n",
              "</table>\n",
              "<p>200 rows × 5 columns</p>\n",
              "</div>"
            ],
            "text/plain": [
              "     CustomerID  Gender  Age  Annual Income (k$)  Spending Score (1-100)\n",
              "0             1    Male   19                  15                      39\n",
              "1             2    Male   21                  15                      81\n",
              "2             3  Female   20                  16                       6\n",
              "3             4  Female   23                  16                      77\n",
              "4             5  Female   31                  17                      40\n",
              "..          ...     ...  ...                 ...                     ...\n",
              "195         196  Female   35                 120                      79\n",
              "196         197  Female   45                 126                      28\n",
              "197         198    Male   32                 126                      74\n",
              "198         199    Male   32                 137                      18\n",
              "199         200    Male   30                 137                      83\n",
              "\n",
              "[200 rows x 5 columns]"
            ]
          },
          "metadata": {
            "tags": []
          },
          "execution_count": 24
        }
      ]
    },
    {
      "cell_type": "code",
      "metadata": {
        "id": "yz9gwYdeyhfc"
      },
      "source": [
        "#From above data seprate nimeric and non numeric features as Local Outlier Factor approach can only applicable on features with numeric.\r\n",
        "numeric_data = data.iloc[:, 2 : 6].values"
      ],
      "execution_count": null,
      "outputs": []
    },
    {
      "cell_type": "code",
      "metadata": {
        "colab": {
          "base_uri": "https://localhost:8080/"
        },
        "id": "GbYr7B0SzCvM",
        "outputId": "67d6d851-4039-4c88-b9b2-c56c294014b3"
      },
      "source": [
        "numeric_data"
      ],
      "execution_count": null,
      "outputs": [
        {
          "output_type": "execute_result",
          "data": {
            "text/plain": [
              "array([[ 19,  15,  39],\n",
              "       [ 21,  15,  81],\n",
              "       [ 20,  16,   6],\n",
              "       [ 23,  16,  77],\n",
              "       [ 31,  17,  40],\n",
              "       [ 22,  17,  76],\n",
              "       [ 35,  18,   6],\n",
              "       [ 23,  18,  94],\n",
              "       [ 64,  19,   3],\n",
              "       [ 30,  19,  72],\n",
              "       [ 67,  19,  14],\n",
              "       [ 35,  19,  99],\n",
              "       [ 58,  20,  15],\n",
              "       [ 24,  20,  77],\n",
              "       [ 37,  20,  13],\n",
              "       [ 22,  20,  79],\n",
              "       [ 35,  21,  35],\n",
              "       [ 20,  21,  66],\n",
              "       [ 52,  23,  29],\n",
              "       [ 35,  23,  98],\n",
              "       [ 35,  24,  35],\n",
              "       [ 25,  24,  73],\n",
              "       [ 46,  25,   5],\n",
              "       [ 31,  25,  73],\n",
              "       [ 54,  28,  14],\n",
              "       [ 29,  28,  82],\n",
              "       [ 45,  28,  32],\n",
              "       [ 35,  28,  61],\n",
              "       [ 40,  29,  31],\n",
              "       [ 23,  29,  87],\n",
              "       [ 60,  30,   4],\n",
              "       [ 21,  30,  73],\n",
              "       [ 53,  33,   4],\n",
              "       [ 18,  33,  92],\n",
              "       [ 49,  33,  14],\n",
              "       [ 21,  33,  81],\n",
              "       [ 42,  34,  17],\n",
              "       [ 30,  34,  73],\n",
              "       [ 36,  37,  26],\n",
              "       [ 20,  37,  75],\n",
              "       [ 65,  38,  35],\n",
              "       [ 24,  38,  92],\n",
              "       [ 48,  39,  36],\n",
              "       [ 31,  39,  61],\n",
              "       [ 49,  39,  28],\n",
              "       [ 24,  39,  65],\n",
              "       [ 50,  40,  55],\n",
              "       [ 27,  40,  47],\n",
              "       [ 29,  40,  42],\n",
              "       [ 31,  40,  42],\n",
              "       [ 49,  42,  52],\n",
              "       [ 33,  42,  60],\n",
              "       [ 31,  43,  54],\n",
              "       [ 59,  43,  60],\n",
              "       [ 50,  43,  45],\n",
              "       [ 47,  43,  41],\n",
              "       [ 51,  44,  50],\n",
              "       [ 69,  44,  46],\n",
              "       [ 27,  46,  51],\n",
              "       [ 53,  46,  46],\n",
              "       [ 70,  46,  56],\n",
              "       [ 19,  46,  55],\n",
              "       [ 67,  47,  52],\n",
              "       [ 54,  47,  59],\n",
              "       [ 63,  48,  51],\n",
              "       [ 18,  48,  59],\n",
              "       [ 43,  48,  50],\n",
              "       [ 68,  48,  48],\n",
              "       [ 19,  48,  59],\n",
              "       [ 32,  48,  47],\n",
              "       [ 70,  49,  55],\n",
              "       [ 47,  49,  42],\n",
              "       [ 60,  50,  49],\n",
              "       [ 60,  50,  56],\n",
              "       [ 59,  54,  47],\n",
              "       [ 26,  54,  54],\n",
              "       [ 45,  54,  53],\n",
              "       [ 40,  54,  48],\n",
              "       [ 23,  54,  52],\n",
              "       [ 49,  54,  42],\n",
              "       [ 57,  54,  51],\n",
              "       [ 38,  54,  55],\n",
              "       [ 67,  54,  41],\n",
              "       [ 46,  54,  44],\n",
              "       [ 21,  54,  57],\n",
              "       [ 48,  54,  46],\n",
              "       [ 55,  57,  58],\n",
              "       [ 22,  57,  55],\n",
              "       [ 34,  58,  60],\n",
              "       [ 50,  58,  46],\n",
              "       [ 68,  59,  55],\n",
              "       [ 18,  59,  41],\n",
              "       [ 48,  60,  49],\n",
              "       [ 40,  60,  40],\n",
              "       [ 32,  60,  42],\n",
              "       [ 24,  60,  52],\n",
              "       [ 47,  60,  47],\n",
              "       [ 27,  60,  50],\n",
              "       [ 48,  61,  42],\n",
              "       [ 20,  61,  49],\n",
              "       [ 23,  62,  41],\n",
              "       [ 49,  62,  48],\n",
              "       [ 67,  62,  59],\n",
              "       [ 26,  62,  55],\n",
              "       [ 49,  62,  56],\n",
              "       [ 21,  62,  42],\n",
              "       [ 66,  63,  50],\n",
              "       [ 54,  63,  46],\n",
              "       [ 68,  63,  43],\n",
              "       [ 66,  63,  48],\n",
              "       [ 65,  63,  52],\n",
              "       [ 19,  63,  54],\n",
              "       [ 38,  64,  42],\n",
              "       [ 19,  64,  46],\n",
              "       [ 18,  65,  48],\n",
              "       [ 19,  65,  50],\n",
              "       [ 63,  65,  43],\n",
              "       [ 49,  65,  59],\n",
              "       [ 51,  67,  43],\n",
              "       [ 50,  67,  57],\n",
              "       [ 27,  67,  56],\n",
              "       [ 38,  67,  40],\n",
              "       [ 40,  69,  58],\n",
              "       [ 39,  69,  91],\n",
              "       [ 23,  70,  29],\n",
              "       [ 31,  70,  77],\n",
              "       [ 43,  71,  35],\n",
              "       [ 40,  71,  95],\n",
              "       [ 59,  71,  11],\n",
              "       [ 38,  71,  75],\n",
              "       [ 47,  71,   9],\n",
              "       [ 39,  71,  75],\n",
              "       [ 25,  72,  34],\n",
              "       [ 31,  72,  71],\n",
              "       [ 20,  73,   5],\n",
              "       [ 29,  73,  88],\n",
              "       [ 44,  73,   7],\n",
              "       [ 32,  73,  73],\n",
              "       [ 19,  74,  10],\n",
              "       [ 35,  74,  72],\n",
              "       [ 57,  75,   5],\n",
              "       [ 32,  75,  93],\n",
              "       [ 28,  76,  40],\n",
              "       [ 32,  76,  87],\n",
              "       [ 25,  77,  12],\n",
              "       [ 28,  77,  97],\n",
              "       [ 48,  77,  36],\n",
              "       [ 32,  77,  74],\n",
              "       [ 34,  78,  22],\n",
              "       [ 34,  78,  90],\n",
              "       [ 43,  78,  17],\n",
              "       [ 39,  78,  88],\n",
              "       [ 44,  78,  20],\n",
              "       [ 38,  78,  76],\n",
              "       [ 47,  78,  16],\n",
              "       [ 27,  78,  89],\n",
              "       [ 37,  78,   1],\n",
              "       [ 30,  78,  78],\n",
              "       [ 34,  78,   1],\n",
              "       [ 30,  78,  73],\n",
              "       [ 56,  79,  35],\n",
              "       [ 29,  79,  83],\n",
              "       [ 19,  81,   5],\n",
              "       [ 31,  81,  93],\n",
              "       [ 50,  85,  26],\n",
              "       [ 36,  85,  75],\n",
              "       [ 42,  86,  20],\n",
              "       [ 33,  86,  95],\n",
              "       [ 36,  87,  27],\n",
              "       [ 32,  87,  63],\n",
              "       [ 40,  87,  13],\n",
              "       [ 28,  87,  75],\n",
              "       [ 36,  87,  10],\n",
              "       [ 36,  87,  92],\n",
              "       [ 52,  88,  13],\n",
              "       [ 30,  88,  86],\n",
              "       [ 58,  88,  15],\n",
              "       [ 27,  88,  69],\n",
              "       [ 59,  93,  14],\n",
              "       [ 35,  93,  90],\n",
              "       [ 37,  97,  32],\n",
              "       [ 32,  97,  86],\n",
              "       [ 46,  98,  15],\n",
              "       [ 29,  98,  88],\n",
              "       [ 41,  99,  39],\n",
              "       [ 30,  99,  97],\n",
              "       [ 54, 101,  24],\n",
              "       [ 28, 101,  68],\n",
              "       [ 41, 103,  17],\n",
              "       [ 36, 103,  85],\n",
              "       [ 34, 103,  23],\n",
              "       [ 32, 103,  69],\n",
              "       [ 33, 113,   8],\n",
              "       [ 38, 113,  91],\n",
              "       [ 47, 120,  16],\n",
              "       [ 35, 120,  79],\n",
              "       [ 45, 126,  28],\n",
              "       [ 32, 126,  74],\n",
              "       [ 32, 137,  18],\n",
              "       [ 30, 137,  83]])"
            ]
          },
          "metadata": {
            "tags": []
          },
          "execution_count": 26
        }
      ]
    },
    {
      "cell_type": "code",
      "metadata": {
        "id": "fOIFKds1zI3q"
      },
      "source": [
        "from sklearn.neighbors import LocalOutlierFactor"
      ],
      "execution_count": null,
      "outputs": []
    },
    {
      "cell_type": "code",
      "metadata": {
        "colab": {
          "base_uri": "https://localhost:8080/"
        },
        "id": "dyZFqoTLzO4e",
        "outputId": "62b97401-a31b-462e-86ed-b3443db0146b"
      },
      "source": [
        "lof = LocalOutlierFactor(n_neighbors = 4)\r\n",
        "lof"
      ],
      "execution_count": null,
      "outputs": [
        {
          "output_type": "execute_result",
          "data": {
            "text/plain": [
              "LocalOutlierFactor(algorithm='auto', contamination='auto', leaf_size=30,\n",
              "                   metric='minkowski', metric_params=None, n_jobs=None,\n",
              "                   n_neighbors=4, novelty=False, p=2)"
            ]
          },
          "metadata": {
            "tags": []
          },
          "execution_count": 28
        }
      ]
    },
    {
      "cell_type": "code",
      "metadata": {
        "colab": {
          "base_uri": "https://localhost:8080/"
        },
        "id": "KbM5nZ75zSe-",
        "outputId": "9ee1ba40-ee10-4d41-ecff-6bb438eca5a9"
      },
      "source": [
        "lof.fit_predict(numeric_data)"
      ],
      "execution_count": null,
      "outputs": [
        {
          "output_type": "execute_result",
          "data": {
            "text/plain": [
              "array([ 1,  1, -1,  1,  1,  1,  1,  1,  1,  1,  1,  1,  1,  1,  1,  1,  1,\n",
              "       -1,  1,  1,  1,  1,  1,  1,  1,  1,  1,  1,  1,  1,  1,  1,  1,  1,\n",
              "        1,  1,  1,  1,  1,  1, -1,  1,  1,  1,  1,  1,  1,  1,  1,  1,  1,\n",
              "        1,  1,  1,  1,  1,  1,  1,  1,  1,  1,  1,  1,  1,  1,  1,  1,  1,\n",
              "        1,  1,  1,  1,  1,  1,  1,  1,  1,  1,  1,  1,  1,  1,  1,  1,  1,\n",
              "        1,  1,  1,  1,  1,  1,  1,  1,  1,  1,  1,  1,  1,  1,  1,  1,  1,\n",
              "        1,  1,  1,  1,  1,  1,  1,  1,  1,  1,  1,  1,  1,  1,  1,  1,  1,\n",
              "        1,  1,  1,  1,  1,  1,  1,  1,  1,  1,  1,  1,  1,  1,  1,  1,  1,\n",
              "        1,  1,  1,  1,  1,  1,  1,  1,  1,  1,  1,  1,  1,  1,  1,  1,  1,\n",
              "        1,  1,  1,  1,  1,  1,  1,  1,  1,  1,  1,  1,  1,  1,  1,  1,  1,\n",
              "        1,  1,  1,  1,  1,  1,  1,  1,  1,  1,  1,  1,  1,  1,  1,  1,  1,\n",
              "        1,  1,  1,  1,  1,  1,  1,  1,  1,  1,  1,  1,  1])"
            ]
          },
          "metadata": {
            "tags": []
          },
          "execution_count": 29
        }
      ]
    },
    {
      "cell_type": "code",
      "metadata": {
        "colab": {
          "base_uri": "https://localhost:8080/"
        },
        "id": "o4-4A3fWzXcx",
        "outputId": "f0733a59-d7f2-4f10-fde1-f16e84b06e34"
      },
      "source": [
        "#Detecting multivariate outliers from the given data set usign DBSCAN approach.\r\n",
        "numerical_data = data.iloc[:, [2, 3, 4]].values\r\n",
        "numerical_data"
      ],
      "execution_count": null,
      "outputs": [
        {
          "output_type": "execute_result",
          "data": {
            "text/plain": [
              "array([[ 19,  15,  39],\n",
              "       [ 21,  15,  81],\n",
              "       [ 20,  16,   6],\n",
              "       [ 23,  16,  77],\n",
              "       [ 31,  17,  40],\n",
              "       [ 22,  17,  76],\n",
              "       [ 35,  18,   6],\n",
              "       [ 23,  18,  94],\n",
              "       [ 64,  19,   3],\n",
              "       [ 30,  19,  72],\n",
              "       [ 67,  19,  14],\n",
              "       [ 35,  19,  99],\n",
              "       [ 58,  20,  15],\n",
              "       [ 24,  20,  77],\n",
              "       [ 37,  20,  13],\n",
              "       [ 22,  20,  79],\n",
              "       [ 35,  21,  35],\n",
              "       [ 20,  21,  66],\n",
              "       [ 52,  23,  29],\n",
              "       [ 35,  23,  98],\n",
              "       [ 35,  24,  35],\n",
              "       [ 25,  24,  73],\n",
              "       [ 46,  25,   5],\n",
              "       [ 31,  25,  73],\n",
              "       [ 54,  28,  14],\n",
              "       [ 29,  28,  82],\n",
              "       [ 45,  28,  32],\n",
              "       [ 35,  28,  61],\n",
              "       [ 40,  29,  31],\n",
              "       [ 23,  29,  87],\n",
              "       [ 60,  30,   4],\n",
              "       [ 21,  30,  73],\n",
              "       [ 53,  33,   4],\n",
              "       [ 18,  33,  92],\n",
              "       [ 49,  33,  14],\n",
              "       [ 21,  33,  81],\n",
              "       [ 42,  34,  17],\n",
              "       [ 30,  34,  73],\n",
              "       [ 36,  37,  26],\n",
              "       [ 20,  37,  75],\n",
              "       [ 65,  38,  35],\n",
              "       [ 24,  38,  92],\n",
              "       [ 48,  39,  36],\n",
              "       [ 31,  39,  61],\n",
              "       [ 49,  39,  28],\n",
              "       [ 24,  39,  65],\n",
              "       [ 50,  40,  55],\n",
              "       [ 27,  40,  47],\n",
              "       [ 29,  40,  42],\n",
              "       [ 31,  40,  42],\n",
              "       [ 49,  42,  52],\n",
              "       [ 33,  42,  60],\n",
              "       [ 31,  43,  54],\n",
              "       [ 59,  43,  60],\n",
              "       [ 50,  43,  45],\n",
              "       [ 47,  43,  41],\n",
              "       [ 51,  44,  50],\n",
              "       [ 69,  44,  46],\n",
              "       [ 27,  46,  51],\n",
              "       [ 53,  46,  46],\n",
              "       [ 70,  46,  56],\n",
              "       [ 19,  46,  55],\n",
              "       [ 67,  47,  52],\n",
              "       [ 54,  47,  59],\n",
              "       [ 63,  48,  51],\n",
              "       [ 18,  48,  59],\n",
              "       [ 43,  48,  50],\n",
              "       [ 68,  48,  48],\n",
              "       [ 19,  48,  59],\n",
              "       [ 32,  48,  47],\n",
              "       [ 70,  49,  55],\n",
              "       [ 47,  49,  42],\n",
              "       [ 60,  50,  49],\n",
              "       [ 60,  50,  56],\n",
              "       [ 59,  54,  47],\n",
              "       [ 26,  54,  54],\n",
              "       [ 45,  54,  53],\n",
              "       [ 40,  54,  48],\n",
              "       [ 23,  54,  52],\n",
              "       [ 49,  54,  42],\n",
              "       [ 57,  54,  51],\n",
              "       [ 38,  54,  55],\n",
              "       [ 67,  54,  41],\n",
              "       [ 46,  54,  44],\n",
              "       [ 21,  54,  57],\n",
              "       [ 48,  54,  46],\n",
              "       [ 55,  57,  58],\n",
              "       [ 22,  57,  55],\n",
              "       [ 34,  58,  60],\n",
              "       [ 50,  58,  46],\n",
              "       [ 68,  59,  55],\n",
              "       [ 18,  59,  41],\n",
              "       [ 48,  60,  49],\n",
              "       [ 40,  60,  40],\n",
              "       [ 32,  60,  42],\n",
              "       [ 24,  60,  52],\n",
              "       [ 47,  60,  47],\n",
              "       [ 27,  60,  50],\n",
              "       [ 48,  61,  42],\n",
              "       [ 20,  61,  49],\n",
              "       [ 23,  62,  41],\n",
              "       [ 49,  62,  48],\n",
              "       [ 67,  62,  59],\n",
              "       [ 26,  62,  55],\n",
              "       [ 49,  62,  56],\n",
              "       [ 21,  62,  42],\n",
              "       [ 66,  63,  50],\n",
              "       [ 54,  63,  46],\n",
              "       [ 68,  63,  43],\n",
              "       [ 66,  63,  48],\n",
              "       [ 65,  63,  52],\n",
              "       [ 19,  63,  54],\n",
              "       [ 38,  64,  42],\n",
              "       [ 19,  64,  46],\n",
              "       [ 18,  65,  48],\n",
              "       [ 19,  65,  50],\n",
              "       [ 63,  65,  43],\n",
              "       [ 49,  65,  59],\n",
              "       [ 51,  67,  43],\n",
              "       [ 50,  67,  57],\n",
              "       [ 27,  67,  56],\n",
              "       [ 38,  67,  40],\n",
              "       [ 40,  69,  58],\n",
              "       [ 39,  69,  91],\n",
              "       [ 23,  70,  29],\n",
              "       [ 31,  70,  77],\n",
              "       [ 43,  71,  35],\n",
              "       [ 40,  71,  95],\n",
              "       [ 59,  71,  11],\n",
              "       [ 38,  71,  75],\n",
              "       [ 47,  71,   9],\n",
              "       [ 39,  71,  75],\n",
              "       [ 25,  72,  34],\n",
              "       [ 31,  72,  71],\n",
              "       [ 20,  73,   5],\n",
              "       [ 29,  73,  88],\n",
              "       [ 44,  73,   7],\n",
              "       [ 32,  73,  73],\n",
              "       [ 19,  74,  10],\n",
              "       [ 35,  74,  72],\n",
              "       [ 57,  75,   5],\n",
              "       [ 32,  75,  93],\n",
              "       [ 28,  76,  40],\n",
              "       [ 32,  76,  87],\n",
              "       [ 25,  77,  12],\n",
              "       [ 28,  77,  97],\n",
              "       [ 48,  77,  36],\n",
              "       [ 32,  77,  74],\n",
              "       [ 34,  78,  22],\n",
              "       [ 34,  78,  90],\n",
              "       [ 43,  78,  17],\n",
              "       [ 39,  78,  88],\n",
              "       [ 44,  78,  20],\n",
              "       [ 38,  78,  76],\n",
              "       [ 47,  78,  16],\n",
              "       [ 27,  78,  89],\n",
              "       [ 37,  78,   1],\n",
              "       [ 30,  78,  78],\n",
              "       [ 34,  78,   1],\n",
              "       [ 30,  78,  73],\n",
              "       [ 56,  79,  35],\n",
              "       [ 29,  79,  83],\n",
              "       [ 19,  81,   5],\n",
              "       [ 31,  81,  93],\n",
              "       [ 50,  85,  26],\n",
              "       [ 36,  85,  75],\n",
              "       [ 42,  86,  20],\n",
              "       [ 33,  86,  95],\n",
              "       [ 36,  87,  27],\n",
              "       [ 32,  87,  63],\n",
              "       [ 40,  87,  13],\n",
              "       [ 28,  87,  75],\n",
              "       [ 36,  87,  10],\n",
              "       [ 36,  87,  92],\n",
              "       [ 52,  88,  13],\n",
              "       [ 30,  88,  86],\n",
              "       [ 58,  88,  15],\n",
              "       [ 27,  88,  69],\n",
              "       [ 59,  93,  14],\n",
              "       [ 35,  93,  90],\n",
              "       [ 37,  97,  32],\n",
              "       [ 32,  97,  86],\n",
              "       [ 46,  98,  15],\n",
              "       [ 29,  98,  88],\n",
              "       [ 41,  99,  39],\n",
              "       [ 30,  99,  97],\n",
              "       [ 54, 101,  24],\n",
              "       [ 28, 101,  68],\n",
              "       [ 41, 103,  17],\n",
              "       [ 36, 103,  85],\n",
              "       [ 34, 103,  23],\n",
              "       [ 32, 103,  69],\n",
              "       [ 33, 113,   8],\n",
              "       [ 38, 113,  91],\n",
              "       [ 47, 120,  16],\n",
              "       [ 35, 120,  79],\n",
              "       [ 45, 126,  28],\n",
              "       [ 32, 126,  74],\n",
              "       [ 32, 137,  18],\n",
              "       [ 30, 137,  83]])"
            ]
          },
          "metadata": {
            "tags": []
          },
          "execution_count": 32
        }
      ]
    },
    {
      "cell_type": "code",
      "metadata": {
        "id": "8UUutVlC09rE"
      },
      "source": [
        "from sklearn.cluster import DBSCAN"
      ],
      "execution_count": null,
      "outputs": []
    },
    {
      "cell_type": "code",
      "metadata": {
        "colab": {
          "base_uri": "https://localhost:8080/"
        },
        "id": "Q7qTyA7-2W5r",
        "outputId": "dcf221ff-755f-4cff-ee44-21dcfc11da40"
      },
      "source": [
        "dbscan = DBSCAN(eps = 10, min_samples = 5)\r\n",
        "dbscan"
      ],
      "execution_count": null,
      "outputs": [
        {
          "output_type": "execute_result",
          "data": {
            "text/plain": [
              "DBSCAN(algorithm='auto', eps=10, leaf_size=30, metric='euclidean',\n",
              "       metric_params=None, min_samples=5, n_jobs=None, p=None)"
            ]
          },
          "metadata": {
            "tags": []
          },
          "execution_count": 66
        }
      ]
    },
    {
      "cell_type": "code",
      "metadata": {
        "colab": {
          "base_uri": "https://localhost:8080/"
        },
        "id": "GmUh6xpe2bmi",
        "outputId": "88ae5d01-c9a2-4f46-d60c-3c54ab275b15"
      },
      "source": [
        "dbscan.fit_predict(numerical_data)"
      ],
      "execution_count": null,
      "outputs": [
        {
          "output_type": "execute_result",
          "data": {
            "text/plain": [
              "array([-1,  0, -1,  0, -1,  0, -1, -1, -1,  0, -1, -1, -1,  0, -1,  0, -1,\n",
              "        0, -1, -1, -1,  0, -1,  0, -1,  0, -1, -1, -1,  0, -1,  0, -1, -1,\n",
              "       -1,  0, -1,  0, -1,  0, -1, -1,  1,  1, -1, -1,  1,  1,  1,  1,  1,\n",
              "        1,  1,  1,  1,  1,  1,  1,  1,  1,  1,  1,  1,  1,  1,  1,  1,  1,\n",
              "        1,  1,  1,  1,  1,  1,  1,  1,  1,  1,  1,  1,  1,  1,  1,  1,  1,\n",
              "        1,  1,  1,  1,  1,  1,  1,  1,  1,  1,  1,  1,  1,  1,  1,  1,  1,\n",
              "        1,  1,  1,  1,  1,  1,  1,  1,  1,  1,  1,  1,  1,  1,  1,  1,  1,\n",
              "        1,  1,  1, -1,  2, -1,  2,  1,  2, -1,  2, -1,  2, -1,  2, -1,  2,\n",
              "       -1,  2, -1,  2, -1,  2, -1,  2, -1,  2, -1,  2, -1,  2,  3,  2,  3,\n",
              "        2, -1,  2, -1,  2, -1,  2, -1,  2, -1,  2, -1,  2,  3,  2,  3, -1,\n",
              "        3,  2, -1,  2, -1,  2, -1,  2, -1,  2, -1,  2, -1,  2, -1,  2, -1,\n",
              "       -1, -1,  2, -1, -1, -1, -1, -1, -1, -1, -1, -1, -1])"
            ]
          },
          "metadata": {
            "tags": []
          },
          "execution_count": 67
        }
      ]
    },
    {
      "cell_type": "code",
      "metadata": {
        "id": "edFjcYFQ2kGi",
        "colab": {
          "base_uri": "https://localhost:8080/"
        },
        "outputId": "a8c40381-6adc-498a-9cf1-9358d01f5939"
      },
      "source": [
        "#imputation with statistical measures\r\n",
        "# replacing all the univariate outliers with the help of mode\r\n",
        "\r\n",
        "gender = data.iloc[:, 1].values\r\n",
        "gender"
      ],
      "execution_count": null,
      "outputs": [
        {
          "output_type": "execute_result",
          "data": {
            "text/plain": [
              "array(['Male', 'Male', 'Female', 'Female', 'Female', 'Female', 'Female',\n",
              "       'Female', 'Male', 'Female', 'Male', 'Female', 'Female', 'Female',\n",
              "       'Male', 'Male', 'Female', 'Male', 'Male', 'Female', 'Male', 'Male',\n",
              "       'Female', 'Male', 'Female', 'Male', 'Female', 'Male', 'Female',\n",
              "       'Female', 'Male', 'Female', 'Male', 'Male', 'Female', 'Female',\n",
              "       'Female', 'Female', 'Female', 'Female', 'Female', 'Male', 'Male',\n",
              "       'Female', 'Female', 'Female', 'Female', 'Female', 'Female',\n",
              "       'Female', 'Female', 'Male', 'Female', 'Male', 'Female', 'Male',\n",
              "       'Female', 'Male', 'Female', 'Male', 'Male', 'Male', 'Female',\n",
              "       'Female', 'Male', 'Male', 'Female', 'Female', 'Male', 'Female',\n",
              "       'Male', 'Female', 'Female', 'Female', 'Male', 'Male', 'Female',\n",
              "       'Male', 'Female', 'Female', 'Male', 'Male', 'Male', 'Female',\n",
              "       'Female', 'Male', 'Female', 'Female', 'Female', 'Female', 'Female',\n",
              "       'Male', 'Male', 'Female', 'Female', 'Male', 'Female', 'Female',\n",
              "       'Male', 'Male', 'Female', 'Female', 'Male', 'Male', 'Male',\n",
              "       'Female', 'Female', 'Male', 'Male', 'Male', 'Male', 'Female',\n",
              "       'Female', 'Male', 'Female', 'Female', 'Female', 'Female', 'Female',\n",
              "       'Female', 'Male', 'Female', 'Female', 'Male', 'Female', 'Female',\n",
              "       'Male', 'Male', 'Male', 'Male', 'Male', 'Male', 'Female', 'Female',\n",
              "       'Male', 'Female', 'Female', 'Male', 'Male', 'Female', 'Female',\n",
              "       'Male', 'Female', 'Female', 'Male', 'Male', 'Male', 'Female',\n",
              "       'Female', 'Male', 'Male', 'Male', 'Female', 'Female', 'Female',\n",
              "       'Female', 'Male', 'Female', 'Male', 'Female', 'Female', 'Female',\n",
              "       'Male', 'Female', 'Male', 'Female', 'Male', 'Female', 'Female',\n",
              "       'Male', 'Male', 'Male', 'Male', 'Male', 'Female', 'Female', 'Male',\n",
              "       'Male', 'Male', 'Male', 'Female', 'Female', 'Male', 'Female',\n",
              "       'Female', 'Male', 'Female', 'Male', 'Female', 'Female', 'Female',\n",
              "       'Female', 'Male', 'Female', 'Female', 'Female', 'Female', 'Male',\n",
              "       'Male', 'Male'], dtype=object)"
            ]
          },
          "metadata": {
            "tags": []
          },
          "execution_count": 69
        }
      ]
    },
    {
      "cell_type": "code",
      "metadata": {
        "colab": {
          "base_uri": "https://localhost:8080/",
          "height": 35
        },
        "id": "MGRuMpPq-dFY",
        "outputId": "cd0728e7-e618-4447-9402-05cd06c8c5a8"
      },
      "source": [
        "from scipy import stats    #finding the mode \"the most repeated value and we can see it is female\"\r\n",
        "mode = stats.mode(gender)[0][0]\r\n",
        "mode"
      ],
      "execution_count": null,
      "outputs": [
        {
          "output_type": "execute_result",
          "data": {
            "application/vnd.google.colaboratory.intrinsic+json": {
              "type": "string"
            },
            "text/plain": [
              "'Female'"
            ]
          },
          "metadata": {
            "tags": []
          },
          "execution_count": 71
        }
      ]
    },
    {
      "cell_type": "code",
      "metadata": {
        "id": "oWfQBnEh-3Pv"
      },
      "source": [
        "new_gender_assigned = []\r\n",
        "for genders in gender:  #loop through the data to check for missing values, if found replace them with mode\r\n",
        "  if genders == '?' or 'Nan' or '#':\r\n",
        "    new_gender_assigned.append(mode)\r\n",
        "  else:\r\n",
        "    new_gender_assigned.append(genders)"
      ],
      "execution_count": null,
      "outputs": []
    },
    {
      "cell_type": "code",
      "metadata": {
        "colab": {
          "base_uri": "https://localhost:8080/"
        },
        "id": "zB1iiqRF_y6O",
        "outputId": "5e0a3ed5-81bc-4350-c690-f92e0025bf5a"
      },
      "source": [
        "new_gender_assigned"
      ],
      "execution_count": null,
      "outputs": [
        {
          "output_type": "execute_result",
          "data": {
            "text/plain": [
              "['Female',\n",
              " 'Female',\n",
              " 'Female',\n",
              " 'Female',\n",
              " 'Female',\n",
              " 'Female',\n",
              " 'Female',\n",
              " 'Female',\n",
              " 'Female',\n",
              " 'Female',\n",
              " 'Female',\n",
              " 'Female',\n",
              " 'Female',\n",
              " 'Female',\n",
              " 'Female',\n",
              " 'Female',\n",
              " 'Female',\n",
              " 'Female',\n",
              " 'Female',\n",
              " 'Female',\n",
              " 'Female',\n",
              " 'Female',\n",
              " 'Female',\n",
              " 'Female',\n",
              " 'Female',\n",
              " 'Female',\n",
              " 'Female',\n",
              " 'Female',\n",
              " 'Female',\n",
              " 'Female',\n",
              " 'Female',\n",
              " 'Female',\n",
              " 'Female',\n",
              " 'Female',\n",
              " 'Female',\n",
              " 'Female',\n",
              " 'Female',\n",
              " 'Female',\n",
              " 'Female',\n",
              " 'Female',\n",
              " 'Female',\n",
              " 'Female',\n",
              " 'Female',\n",
              " 'Female',\n",
              " 'Female',\n",
              " 'Female',\n",
              " 'Female',\n",
              " 'Female',\n",
              " 'Female',\n",
              " 'Female',\n",
              " 'Female',\n",
              " 'Female',\n",
              " 'Female',\n",
              " 'Female',\n",
              " 'Female',\n",
              " 'Female',\n",
              " 'Female',\n",
              " 'Female',\n",
              " 'Female',\n",
              " 'Female',\n",
              " 'Female',\n",
              " 'Female',\n",
              " 'Female',\n",
              " 'Female',\n",
              " 'Female',\n",
              " 'Female',\n",
              " 'Female',\n",
              " 'Female',\n",
              " 'Female',\n",
              " 'Female',\n",
              " 'Female',\n",
              " 'Female',\n",
              " 'Female',\n",
              " 'Female',\n",
              " 'Female',\n",
              " 'Female',\n",
              " 'Female',\n",
              " 'Female',\n",
              " 'Female',\n",
              " 'Female',\n",
              " 'Female',\n",
              " 'Female',\n",
              " 'Female',\n",
              " 'Female',\n",
              " 'Female',\n",
              " 'Female',\n",
              " 'Female',\n",
              " 'Female',\n",
              " 'Female',\n",
              " 'Female',\n",
              " 'Female',\n",
              " 'Female',\n",
              " 'Female',\n",
              " 'Female',\n",
              " 'Female',\n",
              " 'Female',\n",
              " 'Female',\n",
              " 'Female',\n",
              " 'Female',\n",
              " 'Female',\n",
              " 'Female',\n",
              " 'Female',\n",
              " 'Female',\n",
              " 'Female',\n",
              " 'Female',\n",
              " 'Female',\n",
              " 'Female',\n",
              " 'Female',\n",
              " 'Female',\n",
              " 'Female',\n",
              " 'Female',\n",
              " 'Female',\n",
              " 'Female',\n",
              " 'Female',\n",
              " 'Female',\n",
              " 'Female',\n",
              " 'Female',\n",
              " 'Female',\n",
              " 'Female',\n",
              " 'Female',\n",
              " 'Female',\n",
              " 'Female',\n",
              " 'Female',\n",
              " 'Female',\n",
              " 'Female',\n",
              " 'Female',\n",
              " 'Female',\n",
              " 'Female',\n",
              " 'Female',\n",
              " 'Female',\n",
              " 'Female',\n",
              " 'Female',\n",
              " 'Female',\n",
              " 'Female',\n",
              " 'Female',\n",
              " 'Female',\n",
              " 'Female',\n",
              " 'Female',\n",
              " 'Female',\n",
              " 'Female',\n",
              " 'Female',\n",
              " 'Female',\n",
              " 'Female',\n",
              " 'Female',\n",
              " 'Female',\n",
              " 'Female',\n",
              " 'Female',\n",
              " 'Female',\n",
              " 'Female',\n",
              " 'Female',\n",
              " 'Female',\n",
              " 'Female',\n",
              " 'Female',\n",
              " 'Female',\n",
              " 'Female',\n",
              " 'Female',\n",
              " 'Female',\n",
              " 'Female',\n",
              " 'Female',\n",
              " 'Female',\n",
              " 'Female',\n",
              " 'Female',\n",
              " 'Female',\n",
              " 'Female',\n",
              " 'Female',\n",
              " 'Female',\n",
              " 'Female',\n",
              " 'Female',\n",
              " 'Female',\n",
              " 'Female',\n",
              " 'Female',\n",
              " 'Female',\n",
              " 'Female',\n",
              " 'Female',\n",
              " 'Female',\n",
              " 'Female',\n",
              " 'Female',\n",
              " 'Female',\n",
              " 'Female',\n",
              " 'Female',\n",
              " 'Female',\n",
              " 'Female',\n",
              " 'Female',\n",
              " 'Female',\n",
              " 'Female',\n",
              " 'Female',\n",
              " 'Female',\n",
              " 'Female',\n",
              " 'Female',\n",
              " 'Female',\n",
              " 'Female',\n",
              " 'Female',\n",
              " 'Female',\n",
              " 'Female',\n",
              " 'Female',\n",
              " 'Female',\n",
              " 'Female',\n",
              " 'Female',\n",
              " 'Female',\n",
              " 'Female']"
            ]
          },
          "metadata": {
            "tags": []
          },
          "execution_count": 78
        }
      ]
    },
    {
      "cell_type": "code",
      "metadata": {
        "id": "Iwvyc_9nAMR2"
      },
      "source": [
        ""
      ],
      "execution_count": null,
      "outputs": []
    }
  ]
}